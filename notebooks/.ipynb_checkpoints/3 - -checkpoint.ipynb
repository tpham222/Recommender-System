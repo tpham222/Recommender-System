{
 "cells": [
  {
   "cell_type": "markdown",
   "metadata": {},
   "source": [
    "#### Plans\n",
    "Dont make it too long  \n",
    "what to call it?  \n",
    "    inference statistics? What am I inferring? What relationships of the features am I lookin at?  \n",
    "    Data Analysis?  Performing deeper analysis on the average ratings over the years.    \n",
    "    Storytelling?  Telling a story of the data    \n",
    "Lookat the average ratings yearly  \n",
    "    what may be causing it?    \n",
    "    Look at distribution of rating yearly  \n",
    "Look at if the lowest or highest values are within 95% confidence interval  \n",
    "    look at entire data set?  \n",
    "Think of other hypothesis tests that can be performed  \n",
    "Dont make it too long    \n",
    "    "
   ]
  }
 ],
 "metadata": {
  "kernelspec": {
   "display_name": "Python 3",
   "language": "python",
   "name": "python3"
  },
  "language_info": {
   "codemirror_mode": {
    "name": "ipython",
    "version": 3
   },
   "file_extension": ".py",
   "mimetype": "text/x-python",
   "name": "python",
   "nbconvert_exporter": "python",
   "pygments_lexer": "ipython3",
   "version": "3.7.3"
  }
 },
 "nbformat": 4,
 "nbformat_minor": 2
}
