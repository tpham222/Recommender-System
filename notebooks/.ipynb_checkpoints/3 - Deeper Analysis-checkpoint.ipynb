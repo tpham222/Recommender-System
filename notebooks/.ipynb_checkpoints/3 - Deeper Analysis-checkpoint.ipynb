{
 "cells": [
  {
   "cell_type": "markdown",
   "metadata": {},
   "source": [
    "#### Plans\n",
    "Dont make it too long  \n",
    "-x-what to call it?  \n",
    "    -x-inference statistics? What am I inferring? What relationships of the features am I lookin at?  \n",
    "    -x-Data Analysis?  Performing deeper analysis on the average ratings over the years.    \n",
    "    -x-Storytelling?  Telling a story of the data    \n",
    "-x-Lookat the average ratings yearly  \n",
    "    -x-what may be causing it?    \n",
    "    -x-Look at distribution of rating yearly  \n",
    "Look at if the lowest or highest values are within 95% confidence interval  \n",
    "    look at entire data set?  \n",
    "    overall mean of ratings minus mean of 2005\n",
    "    is the difference significant?\n",
    "    hypothesis of the means being the same value\n",
    "        shift the means so that they are equal?\n",
    "Think of other hypothesis tests that can be performed  \n",
    "Dont make it too long    \n",
    "\n",
    "\n",
    "\n",
    "look at distribution of 1, 2, 3, 4,5 ratings for the best year, worst year, most recent year, and overall?\n",
    "    calculate the difference in proportions?\n",
    "    calculate overall proportion of entire dataset\n",
    "    is this different from the yearly proportions observed? statisticall significant?\n",
    "    1 vs all? or all separate? for proportions."
   ]
  },
  {
   "cell_type": "code",
   "execution_count": 1,
   "metadata": {},
   "outputs": [],
   "source": [
    "#importing relevant packages and modules\n",
    "import pandas as pd\n",
    "import numpy as np\n",
    "import os\n",
    "import matplotlib.pyplot as plt\n",
    "import seaborn as sns"
   ]
  },
  {
   "cell_type": "code",
   "execution_count": 2,
   "metadata": {},
   "outputs": [],
   "source": [
    "#setting default plot settings\n",
    "sns.set(rc={'figure.figsize':(10,7)}, font_scale=1.3)"
   ]
  },
  {
   "cell_type": "code",
   "execution_count": 3,
   "metadata": {},
   "outputs": [
    {
     "name": "stderr",
     "output_type": "stream",
     "text": [
      "C:\\Users\\Thompson\\Anaconda3\\lib\\site-packages\\numpy\\lib\\arraysetops.py:569: FutureWarning: elementwise comparison failed; returning scalar instead, but in the future will perform elementwise comparison\n",
      "  mask |= (ar1 == a)\n"
     ]
    }
   ],
   "source": [
    "#accessing the local directory for the data\n",
    "PATH = os.path.join(os.environ['HOMEPATH'], 'data', 'amazon_cleaned.csv')\n",
    "df = pd.read_csv(PATH, index_col=0)"
   ]
  },
  {
   "cell_type": "markdown",
   "metadata": {},
   "source": [
    "Setting up the time index"
   ]
  },
  {
   "cell_type": "code",
   "execution_count": 5,
   "metadata": {},
   "outputs": [
    {
     "data": {
      "text/html": [
       "<div>\n",
       "<style scoped>\n",
       "    .dataframe tbody tr th:only-of-type {\n",
       "        vertical-align: middle;\n",
       "    }\n",
       "\n",
       "    .dataframe tbody tr th {\n",
       "        vertical-align: top;\n",
       "    }\n",
       "\n",
       "    .dataframe thead th {\n",
       "        text-align: right;\n",
       "    }\n",
       "</style>\n",
       "<table border=\"1\" class=\"dataframe\">\n",
       "  <thead>\n",
       "    <tr style=\"text-align: right;\">\n",
       "      <th></th>\n",
       "      <th>itemID</th>\n",
       "      <th>rating</th>\n",
       "      <th>reviewText</th>\n",
       "      <th>reviewTime</th>\n",
       "      <th>reviewerID</th>\n",
       "      <th>summary</th>\n",
       "      <th>foundHelpful</th>\n",
       "      <th>totalHelpful</th>\n",
       "    </tr>\n",
       "  </thead>\n",
       "  <tbody>\n",
       "    <tr>\n",
       "      <th>0</th>\n",
       "      <td>0528881469</td>\n",
       "      <td>5</td>\n",
       "      <td>We got this GPS for my husband who is an (OTR)...</td>\n",
       "      <td>2013-06-02</td>\n",
       "      <td>AO94DHGC771SJ</td>\n",
       "      <td>Gotta have GPS!</td>\n",
       "      <td>0</td>\n",
       "      <td>0</td>\n",
       "    </tr>\n",
       "    <tr>\n",
       "      <th>1</th>\n",
       "      <td>0528881469</td>\n",
       "      <td>1</td>\n",
       "      <td>I'm a professional OTR truck driver, and I bou...</td>\n",
       "      <td>2010-11-25</td>\n",
       "      <td>AMO214LNFCEI4</td>\n",
       "      <td>Very Disappointed</td>\n",
       "      <td>12</td>\n",
       "      <td>15</td>\n",
       "    </tr>\n",
       "    <tr>\n",
       "      <th>2</th>\n",
       "      <td>0528881469</td>\n",
       "      <td>3</td>\n",
       "      <td>Well, what can I say.  I've had this unit in m...</td>\n",
       "      <td>2010-09-09</td>\n",
       "      <td>A3N7T0DY83Y4IG</td>\n",
       "      <td>1st impression</td>\n",
       "      <td>43</td>\n",
       "      <td>45</td>\n",
       "    </tr>\n",
       "    <tr>\n",
       "      <th>3</th>\n",
       "      <td>0528881469</td>\n",
       "      <td>2</td>\n",
       "      <td>Not going to write a long review, even thought...</td>\n",
       "      <td>2010-11-24</td>\n",
       "      <td>A1H8PY3QHMQQA0</td>\n",
       "      <td>Great grafics, POOR GPS</td>\n",
       "      <td>9</td>\n",
       "      <td>10</td>\n",
       "    </tr>\n",
       "    <tr>\n",
       "      <th>4</th>\n",
       "      <td>0528881469</td>\n",
       "      <td>1</td>\n",
       "      <td>I've had mine for a year and here's what we go...</td>\n",
       "      <td>2011-09-29</td>\n",
       "      <td>A24EV6RXELQZ63</td>\n",
       "      <td>Major issues, only excuses for support</td>\n",
       "      <td>0</td>\n",
       "      <td>0</td>\n",
       "    </tr>\n",
       "  </tbody>\n",
       "</table>\n",
       "</div>"
      ],
      "text/plain": [
       "       itemID  rating                                         reviewText  \\\n",
       "0  0528881469       5  We got this GPS for my husband who is an (OTR)...   \n",
       "1  0528881469       1  I'm a professional OTR truck driver, and I bou...   \n",
       "2  0528881469       3  Well, what can I say.  I've had this unit in m...   \n",
       "3  0528881469       2  Not going to write a long review, even thought...   \n",
       "4  0528881469       1  I've had mine for a year and here's what we go...   \n",
       "\n",
       "   reviewTime      reviewerID                                 summary  \\\n",
       "0  2013-06-02   AO94DHGC771SJ                         Gotta have GPS!   \n",
       "1  2010-11-25   AMO214LNFCEI4                       Very Disappointed   \n",
       "2  2010-09-09  A3N7T0DY83Y4IG                          1st impression   \n",
       "3  2010-11-24  A1H8PY3QHMQQA0                 Great grafics, POOR GPS   \n",
       "4  2011-09-29  A24EV6RXELQZ63  Major issues, only excuses for support   \n",
       "\n",
       "   foundHelpful  totalHelpful  \n",
       "0             0             0  \n",
       "1            12            15  \n",
       "2            43            45  \n",
       "3             9            10  \n",
       "4             0             0  "
      ]
     },
     "execution_count": 5,
     "metadata": {},
     "output_type": "execute_result"
    }
   ],
   "source": [
    "df.head()"
   ]
  },
  {
   "cell_type": "code",
   "execution_count": 7,
   "metadata": {},
   "outputs": [],
   "source": [
    "df_time_rating = df[['reviewTime', 'rating']].set_index('reviewTime')"
   ]
  },
  {
   "cell_type": "code",
   "execution_count": 9,
   "metadata": {},
   "outputs": [],
   "source": [
    "df_time_rating.index = pd.to_datetime(df_time_rating.index)"
   ]
  },
  {
   "cell_type": "code",
   "execution_count": 11,
   "metadata": {},
   "outputs": [],
   "source": [
    "yearly_ratings = df_time_rating.resample('1y').mean()"
   ]
  },
  {
   "cell_type": "code",
   "execution_count": 13,
   "metadata": {},
   "outputs": [
    {
     "data": {
      "text/plain": [
       "<bound method NDFrame.head of               rating\n",
       "reviewTime          \n",
       "1999-12-31  4.388889\n",
       "2000-12-31  4.321909\n",
       "2001-12-31  4.187694\n",
       "2002-12-31  4.110151\n",
       "2003-12-31  4.014378\n",
       "2004-12-31  3.876139\n",
       "2005-12-31  3.913986\n",
       "2006-12-31  3.989448\n",
       "2007-12-31  4.140566\n",
       "2008-12-31  4.149623\n",
       "2009-12-31  4.130232\n",
       "2010-12-31  4.110890\n",
       "2011-12-31  4.128648\n",
       "2012-12-31  4.192025\n",
       "2013-12-31  4.282935\n",
       "2014-12-31  4.291534>"
      ]
     },
     "execution_count": 13,
     "metadata": {},
     "output_type": "execute_result"
    }
   ],
   "source": [
    "yearly_ratings.head"
   ]
  },
  {
   "cell_type": "code",
   "execution_count": 17,
   "metadata": {},
   "outputs": [
    {
     "data": {
      "image/png": "[encoded data removed]",
      "text/plain": [
       "<Figure size 720x504 with 1 Axes>"
      ]
     },
     "metadata": {},
     "output_type": "display_data"
    }
   ],
   "source": [
    "#plot the yearly averages\n",
    "plt.title('Yearly Average Ratings')\n",
    "plt.xlabel('Year')\n",
    "plt.ylabel('Average Ratings')\n",
    "\n",
    "plt.plot(yearly_ratings, marker='o')\n",
    "plt.show()"
   ]
  },
  {
   "cell_type": "code",
   "execution_count": 54,
   "metadata": {},
   "outputs": [
    {
     "data": {
      "image/png": "[encoded data removed]",
      "text/plain": [
       "<Figure size 720x504 with 1 Axes>"
      ]
     },
     "metadata": {},
     "output_type": "display_data"
    }
   ],
   "source": [
    "rating_at_year = df_time_rating[df_time_rating.index.year == 2005]\n",
    "plt.hist(rating_at_year['rating'], bins=15)\n",
    "plt.show()"
   ]
  },
  {
   "cell_type": "markdown",
   "metadata": {},
   "source": [
    "filter by rating score, group by count per year\n"
   ]
  },
  {
   "cell_type": "code",
   "execution_count": 84,
   "metadata": {},
   "outputs": [
    {
     "data": {
      "image/png": "[encoded data removed]",
      "text/plain": [
       "<Figure size 720x504 with 1 Axes>"
      ]
     },
     "metadata": {},
     "output_type": "display_data"
    }
   ],
   "source": [
    "ratings = [1,2,3,4,5]\n",
    "\n",
    "for rating in ratings:\n",
    "    rating_filter = df_time_rating[df_time_rating.rating == rating]\n",
    "    rating_opposite = df_time_rating[df_time_rating.rating != rating]\n",
    "    \n",
    "    yearly_rating_count = rating_filter.resample('1y').count()\n",
    "    yearly_ratings_count_opposite = rating_opposite.resample('1y').count()\n",
    "    yearly_proportions = yearly_rating_count/yearly_ratings_count_opposite\n",
    "    plt.plot(yearly_proportions, marker='o', label=rating)\n",
    "\n",
    "plt.title('Proportions of ratings of the years')\n",
    "plt.xlabel('Year')\n",
    "plt.ylabel('Proportion')\n",
    "plt.legend()\n",
    "plt.show()"
   ]
  },
  {
   "cell_type": "markdown",
   "metadata": {},
   "source": [
    "in 2005 and 2006, proportion of 1 ratings were above proportions of 2 and 3. Proportion of 5s were the lowest during that time as well."
   ]
  },
  {
   "cell_type": "code",
   "execution_count": null,
   "metadata": {},
   "outputs": [],
   "source": []
  },
  {
   "cell_type": "code",
   "execution_count": 83,
   "metadata": {},
   "outputs": [
    {
     "data": {
      "text/html": [
       "<div>\n",
       "<style scoped>\n",
       "    .dataframe tbody tr th:only-of-type {\n",
       "        vertical-align: middle;\n",
       "    }\n",
       "\n",
       "    .dataframe tbody tr th {\n",
       "        vertical-align: top;\n",
       "    }\n",
       "\n",
       "    .dataframe thead th {\n",
       "        text-align: right;\n",
       "    }\n",
       "</style>\n",
       "<table border=\"1\" class=\"dataframe\">\n",
       "  <thead>\n",
       "    <tr style=\"text-align: right;\">\n",
       "      <th></th>\n",
       "      <th>rating</th>\n",
       "    </tr>\n",
       "    <tr>\n",
       "      <th>reviewTime</th>\n",
       "      <th></th>\n",
       "    </tr>\n",
       "  </thead>\n",
       "  <tbody>\n",
       "    <tr>\n",
       "      <th>1999-12-31</th>\n",
       "      <td>2.130435</td>\n",
       "    </tr>\n",
       "    <tr>\n",
       "      <th>2000-12-31</th>\n",
       "      <td>1.410029</td>\n",
       "    </tr>\n",
       "    <tr>\n",
       "      <th>2001-12-31</th>\n",
       "      <td>1.250350</td>\n",
       "    </tr>\n",
       "    <tr>\n",
       "      <th>2002-12-31</th>\n",
       "      <td>1.114155</td>\n",
       "    </tr>\n",
       "    <tr>\n",
       "      <th>2003-12-31</th>\n",
       "      <td>1.026857</td>\n",
       "    </tr>\n",
       "    <tr>\n",
       "      <th>2004-12-31</th>\n",
       "      <td>0.931486</td>\n",
       "    </tr>\n",
       "    <tr>\n",
       "      <th>2005-12-31</th>\n",
       "      <td>0.924521</td>\n",
       "    </tr>\n",
       "    <tr>\n",
       "      <th>2006-12-31</th>\n",
       "      <td>1.012114</td>\n",
       "    </tr>\n",
       "    <tr>\n",
       "      <th>2007-12-31</th>\n",
       "      <td>1.219371</td>\n",
       "    </tr>\n",
       "    <tr>\n",
       "      <th>2008-12-31</th>\n",
       "      <td>1.232508</td>\n",
       "    </tr>\n",
       "    <tr>\n",
       "      <th>2009-12-31</th>\n",
       "      <td>1.237328</td>\n",
       "    </tr>\n",
       "    <tr>\n",
       "      <th>2010-12-31</th>\n",
       "      <td>1.203758</td>\n",
       "    </tr>\n",
       "    <tr>\n",
       "      <th>2011-12-31</th>\n",
       "      <td>1.285844</td>\n",
       "    </tr>\n",
       "    <tr>\n",
       "      <th>2012-12-31</th>\n",
       "      <td>1.453389</td>\n",
       "    </tr>\n",
       "    <tr>\n",
       "      <th>2013-12-31</th>\n",
       "      <td>1.616897</td>\n",
       "    </tr>\n",
       "    <tr>\n",
       "      <th>2014-12-31</th>\n",
       "      <td>1.708723</td>\n",
       "    </tr>\n",
       "  </tbody>\n",
       "</table>\n",
       "</div>"
      ],
      "text/plain": [
       "              rating\n",
       "reviewTime          \n",
       "1999-12-31  2.130435\n",
       "2000-12-31  1.410029\n",
       "2001-12-31  1.250350\n",
       "2002-12-31  1.114155\n",
       "2003-12-31  1.026857\n",
       "2004-12-31  0.931486\n",
       "2005-12-31  0.924521\n",
       "2006-12-31  1.012114\n",
       "2007-12-31  1.219371\n",
       "2008-12-31  1.232508\n",
       "2009-12-31  1.237328\n",
       "2010-12-31  1.203758\n",
       "2011-12-31  1.285844\n",
       "2012-12-31  1.453389\n",
       "2013-12-31  1.616897\n",
       "2014-12-31  1.708723"
      ]
     },
     "execution_count": 83,
     "metadata": {},
     "output_type": "execute_result"
    }
   ],
   "source": [
    "yearly_proportions"
   ]
  },
  {
   "cell_type": "code",
   "execution_count": 60,
   "metadata": {},
   "outputs": [
    {
     "data": {
      "text/plain": [
       "reviewTime\n",
       "1999-12-31        49\n",
       "2000-12-31       478\n",
       "2001-12-31       894\n",
       "2002-12-31      1220\n",
       "2003-12-31      1797\n",
       "2004-12-31      2488\n",
       "2005-12-31      4630\n",
       "2006-12-31      7770\n",
       "2007-12-31     19766\n",
       "2008-12-31     27533\n",
       "2009-12-31     39081\n",
       "2010-12-31     56697\n",
       "2011-12-31     97539\n",
       "2012-12-31    167615\n",
       "2013-12-31    366240\n",
       "2014-12-31    215229\n",
       "Freq: A-DEC, Name: rating, dtype: int64"
      ]
     },
     "execution_count": 60,
     "metadata": {},
     "output_type": "execute_result"
    }
   ],
   "source": [
    "yearly_rating_count.rating"
   ]
  },
  {
   "cell_type": "code",
   "execution_count": 64,
   "metadata": {},
   "outputs": [
    {
     "data": {
      "text/plain": [
       "reviewTime\n",
       "1999-12-31    4.388889\n",
       "2000-12-31    4.321909\n",
       "2001-12-31    4.187694\n",
       "2002-12-31    4.110151\n",
       "2003-12-31    4.014378\n",
       "2004-12-31    3.876139\n",
       "2005-12-31    3.913986\n",
       "2006-12-31    3.989448\n",
       "2007-12-31    4.140566\n",
       "2008-12-31    4.149623\n",
       "2009-12-31    4.130232\n",
       "2010-12-31    4.110890\n",
       "2011-12-31    4.128648\n",
       "2012-12-31    4.192025\n",
       "2013-12-31    4.282935\n",
       "2014-12-31    4.291534\n",
       "Freq: A-DEC, Name: rating, dtype: float64"
      ]
     },
     "execution_count": 64,
     "metadata": {},
     "output_type": "execute_result"
    }
   ],
   "source": [
    "yearly_ratings['rating']"
   ]
  },
  {
   "cell_type": "code",
   "execution_count": 68,
   "metadata": {},
   "outputs": [],
   "source": [
    "bs_means = np.empty(10000)\n",
    "for i in range(10000):\n",
    "    #bs = .sample(n=len(), replace=True)\n",
    "    bs_rep = bs.mean()\n",
    "    bs_means[i] = bs_rep"
   ]
  },
  {
   "cell_type": "code",
   "execution_count": 71,
   "metadata": {},
   "outputs": [
    {
     "data": {
      "image/png": "[encoded data removed]",
      "text/plain": [
       "<Figure size 720x504 with 1 Axes>"
      ]
     },
     "metadata": {},
     "output_type": "display_data"
    }
   ],
   "source": [
    "plt.hist(bs_means, bins=15)\n",
    "plt.show()"
   ]
  },
  {
   "cell_type": "code",
   "execution_count": null,
   "metadata": {},
   "outputs": [],
   "source": []
  },
  {
   "cell_type": "code",
   "execution_count": 73,
   "metadata": {},
   "outputs": [],
   "source": [
    "mean_overall = df_time_rating.mean()\n",
    "ratings_2005 = df_time_rating[df_time_rating.index.year == 2005]\n",
    "mean_2005 = ratings_2005.mean()\n",
    "obs_diff = mean_overall - mean_2005\n",
    "\n",
    "shifted_2005 = ratings_2005 - mean_2005 + mean_overall\n",
    "\n",
    "bs_diffs = np.empty(10000)\n",
    "for i in range(10000):\n",
    "    bs = shifted_2005.sample(n=len(shifted_2005), replace=True)\n",
    "    bs_rep = mean_overall - bs.mean()\n",
    "    bs_diffs[i] = bs_rep\n",
    "    "
   ]
  },
  {
   "cell_type": "code",
   "execution_count": null,
   "metadata": {},
   "outputs": [],
   "source": [
    "#look at bootstrap resampling an array of indexes so that dont have to bootstrap twice"
   ]
  },
  {
   "cell_type": "code",
   "execution_count": 80,
   "metadata": {},
   "outputs": [
    {
     "data": {
      "text/plain": [
       "[]"
      ]
     },
     "execution_count": 80,
     "metadata": {},
     "output_type": "execute_result"
    },
    {
     "data": {
      "image/png": "[encoded data removed]",
      "text/plain": [
       "<Figure size 720x504 with 1 Axes>"
      ]
     },
     "metadata": {},
     "output_type": "display_data"
    }
   ],
   "source": [
    "plt.hist(bs_diffs, bins=15)\n",
    "plt.axvline(obs_diff.values)\n",
    "plt.plot()"
   ]
  },
  {
   "cell_type": "code",
   "execution_count": null,
   "metadata": {},
   "outputs": [],
   "source": []
  },
  {
   "cell_type": "code",
   "execution_count": null,
   "metadata": {},
   "outputs": [],
   "source": []
  },
  {
   "cell_type": "code",
   "execution_count": null,
   "metadata": {},
   "outputs": [],
   "source": []
  },
  {
   "cell_type": "code",
   "execution_count": null,
   "metadata": {},
   "outputs": [],
   "source": []
  },
  {
   "cell_type": "code",
   "execution_count": null,
   "metadata": {},
   "outputs": [],
   "source": []
  },
  {
   "cell_type": "code",
   "execution_count": null,
   "metadata": {},
   "outputs": [],
   "source": []
  },
  {
   "cell_type": "code",
   "execution_count": null,
   "metadata": {},
   "outputs": [],
   "source": []
  },
  {
   "cell_type": "code",
   "execution_count": null,
   "metadata": {},
   "outputs": [],
   "source": []
  },
  {
   "cell_type": "code",
   "execution_count": null,
   "metadata": {},
   "outputs": [],
   "source": []
  },
  {
   "cell_type": "code",
   "execution_count": null,
   "metadata": {},
   "outputs": [],
   "source": []
  },
  {
   "cell_type": "code",
   "execution_count": null,
   "metadata": {},
   "outputs": [],
   "source": []
  },
  {
   "cell_type": "code",
   "execution_count": null,
   "metadata": {},
   "outputs": [],
   "source": []
  },
  {
   "cell_type": "code",
   "execution_count": null,
   "metadata": {},
   "outputs": [],
   "source": []
  },
  {
   "cell_type": "code",
   "execution_count": null,
   "metadata": {},
   "outputs": [],
   "source": []
  },
  {
   "cell_type": "code",
   "execution_count": null,
   "metadata": {},
   "outputs": [],
   "source": []
  },
  {
   "cell_type": "code",
   "execution_count": null,
   "metadata": {},
   "outputs": [],
   "source": []
  },
  {
   "cell_type": "code",
   "execution_count": null,
   "metadata": {},
   "outputs": [],
   "source": []
  },
  {
   "cell_type": "code",
   "execution_count": null,
   "metadata": {},
   "outputs": [],
   "source": []
  },
  {
   "cell_type": "code",
   "execution_count": null,
   "metadata": {},
   "outputs": [],
   "source": []
  },
  {
   "cell_type": "code",
   "execution_count": null,
   "metadata": {},
   "outputs": [],
   "source": []
  },
  {
   "cell_type": "code",
   "execution_count": null,
   "metadata": {},
   "outputs": [],
   "source": []
  },
  {
   "cell_type": "code",
   "execution_count": null,
   "metadata": {},
   "outputs": [],
   "source": []
  },
  {
   "cell_type": "code",
   "execution_count": null,
   "metadata": {},
   "outputs": [],
   "source": []
  },
  {
   "cell_type": "code",
   "execution_count": null,
   "metadata": {},
   "outputs": [],
   "source": []
  },
  {
   "cell_type": "code",
   "execution_count": null,
   "metadata": {},
   "outputs": [],
   "source": []
  }
 ],
 "metadata": {
  "kernelspec": {
   "display_name": "Python 3",
   "language": "python",
   "name": "python3"
  },
  "language_info": {
   "codemirror_mode": {
    "name": "ipython",
    "version": 3
   },
   "file_extension": ".py",
   "mimetype": "text/x-python",
   "name": "python",
   "nbconvert_exporter": "python",
   "pygments_lexer": "ipython3",
   "version": "3.7.3"
  }
 },
 "nbformat": 4,
 "nbformat_minor": 2
}
