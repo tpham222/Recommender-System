{
 "cells": [
  {
   "cell_type": "markdown",
   "metadata": {},
   "source": [
    "# Capstone Project 2: Recommender System"
   ]
  },
  {
   "cell_type": "markdown",
   "metadata": {},
   "source": [
    "## Implementing the Recommender System"
   ]
  },
  {
   "cell_type": "markdown",
   "metadata": {},
   "source": [
    "There are multiple ways to implement a recommender system. One way that will be explored in this project is matrix factorization. This method factorizes a User x Item matrix of ratings into two smaller matrices: a Users matrix and an Items matrix. These smaller matrices will contain latent features.The values of these latent features can be estimated based on the known values in the original User x Item matrix. The dot product can be applied to the User and the Item matrices in order to calculate the estimated values for each user/item pair. By performing gradient descent, the values of the latent features that best estimate the actual matrix can be calculated. Therefore, the dot product can be used on the user/item pairs that did not originally have ratings. Of all the items that a particular user did not have ratings for, the top 5 highest estimated ratings can be recommended.  \n",
    "\n",
    "The necessary imports will be made and the cleaned dataset will be read into a pandas DataFrame."
   ]
  },
  {
   "cell_type": "code",
   "execution_count": 1,
   "metadata": {},
   "outputs": [],
   "source": [
    "#importing relevant packages and modules\n",
    "import pandas as pd\n",
    "import numpy as np\n",
    "import os"
   ]
  },
  {
   "cell_type": "code",
   "execution_count": 3,
   "metadata": {},
   "outputs": [
    {
     "name": "stderr",
     "output_type": "stream",
     "text": [
      "C:\\Users\\Thompson\\Anaconda3\\lib\\site-packages\\numpy\\lib\\arraysetops.py:569: FutureWarning: elementwise comparison failed; returning scalar instead, but in the future will perform elementwise comparison\n",
      "  mask |= (ar1 == a)\n"
     ]
    }
   ],
   "source": [
    "#accessing the local directory for the data\n",
    "PATH = os.path.join(os.environ['HOMEPATH'], 'data', 'amazon_cleaned.csv')\n",
    "#reading in the data and saving it into a DataFrame\n",
    "df = pd.read_csv(PATH, index_col=0)"
   ]
  },
  {
   "cell_type": "code",
   "execution_count": 4,
   "metadata": {},
   "outputs": [
    {
     "data": {
      "text/html": [
       "<div>\n",
       "<style scoped>\n",
       "    .dataframe tbody tr th:only-of-type {\n",
       "        vertical-align: middle;\n",
       "    }\n",
       "\n",
       "    .dataframe tbody tr th {\n",
       "        vertical-align: top;\n",
       "    }\n",
       "\n",
       "    .dataframe thead th {\n",
       "        text-align: right;\n",
       "    }\n",
       "</style>\n",
       "<table border=\"1\" class=\"dataframe\">\n",
       "  <thead>\n",
       "    <tr style=\"text-align: right;\">\n",
       "      <th></th>\n",
       "      <th>itemID</th>\n",
       "      <th>rating</th>\n",
       "      <th>reviewText</th>\n",
       "      <th>reviewTime</th>\n",
       "      <th>reviewerID</th>\n",
       "      <th>summary</th>\n",
       "      <th>foundHelpful</th>\n",
       "      <th>totalHelpful</th>\n",
       "    </tr>\n",
       "  </thead>\n",
       "  <tbody>\n",
       "    <tr>\n",
       "      <th>0</th>\n",
       "      <td>0528881469</td>\n",
       "      <td>5</td>\n",
       "      <td>We got this GPS for my husband who is an (OTR)...</td>\n",
       "      <td>2013-06-02</td>\n",
       "      <td>AO94DHGC771SJ</td>\n",
       "      <td>Gotta have GPS!</td>\n",
       "      <td>0</td>\n",
       "      <td>0</td>\n",
       "    </tr>\n",
       "    <tr>\n",
       "      <th>1</th>\n",
       "      <td>0528881469</td>\n",
       "      <td>1</td>\n",
       "      <td>I'm a professional OTR truck driver, and I bou...</td>\n",
       "      <td>2010-11-25</td>\n",
       "      <td>AMO214LNFCEI4</td>\n",
       "      <td>Very Disappointed</td>\n",
       "      <td>12</td>\n",
       "      <td>15</td>\n",
       "    </tr>\n",
       "    <tr>\n",
       "      <th>2</th>\n",
       "      <td>0528881469</td>\n",
       "      <td>3</td>\n",
       "      <td>Well, what can I say.  I've had this unit in m...</td>\n",
       "      <td>2010-09-09</td>\n",
       "      <td>A3N7T0DY83Y4IG</td>\n",
       "      <td>1st impression</td>\n",
       "      <td>43</td>\n",
       "      <td>45</td>\n",
       "    </tr>\n",
       "    <tr>\n",
       "      <th>3</th>\n",
       "      <td>0528881469</td>\n",
       "      <td>2</td>\n",
       "      <td>Not going to write a long review, even thought...</td>\n",
       "      <td>2010-11-24</td>\n",
       "      <td>A1H8PY3QHMQQA0</td>\n",
       "      <td>Great grafics, POOR GPS</td>\n",
       "      <td>9</td>\n",
       "      <td>10</td>\n",
       "    </tr>\n",
       "    <tr>\n",
       "      <th>4</th>\n",
       "      <td>0528881469</td>\n",
       "      <td>1</td>\n",
       "      <td>I've had mine for a year and here's what we go...</td>\n",
       "      <td>2011-09-29</td>\n",
       "      <td>A24EV6RXELQZ63</td>\n",
       "      <td>Major issues, only excuses for support</td>\n",
       "      <td>0</td>\n",
       "      <td>0</td>\n",
       "    </tr>\n",
       "  </tbody>\n",
       "</table>\n",
       "</div>"
      ],
      "text/plain": [
       "       itemID  rating                                         reviewText  \\\n",
       "0  0528881469       5  We got this GPS for my husband who is an (OTR)...   \n",
       "1  0528881469       1  I'm a professional OTR truck driver, and I bou...   \n",
       "2  0528881469       3  Well, what can I say.  I've had this unit in m...   \n",
       "3  0528881469       2  Not going to write a long review, even thought...   \n",
       "4  0528881469       1  I've had mine for a year and here's what we go...   \n",
       "\n",
       "   reviewTime      reviewerID                                 summary  \\\n",
       "0  2013-06-02   AO94DHGC771SJ                         Gotta have GPS!   \n",
       "1  2010-11-25   AMO214LNFCEI4                       Very Disappointed   \n",
       "2  2010-09-09  A3N7T0DY83Y4IG                          1st impression   \n",
       "3  2010-11-24  A1H8PY3QHMQQA0                 Great grafics, POOR GPS   \n",
       "4  2011-09-29  A24EV6RXELQZ63  Major issues, only excuses for support   \n",
       "\n",
       "   foundHelpful  totalHelpful  \n",
       "0             0             0  \n",
       "1            12            15  \n",
       "2            43            45  \n",
       "3             9            10  \n",
       "4             0             0  "
      ]
     },
     "execution_count": 4,
     "metadata": {},
     "output_type": "execute_result"
    }
   ],
   "source": [
    "df.head()"
   ]
  },
  {
   "cell_type": "code",
   "execution_count": 5,
   "metadata": {},
   "outputs": [
    {
     "name": "stdout",
     "output_type": "stream",
     "text": [
      "<class 'pandas.core.frame.DataFrame'>\n",
      "Int64Index: 1689188 entries, 0 to 1689187\n",
      "Data columns (total 8 columns):\n",
      "itemID          1689188 non-null object\n",
      "rating          1689188 non-null int64\n",
      "reviewText      1688117 non-null object\n",
      "reviewTime      1689188 non-null object\n",
      "reviewerID      1689188 non-null object\n",
      "summary         1689173 non-null object\n",
      "foundHelpful    1689188 non-null int64\n",
      "totalHelpful    1689188 non-null int64\n",
      "dtypes: int64(3), object(5)\n",
      "memory usage: 116.0+ MB\n"
     ]
    }
   ],
   "source": [
    "df.info()"
   ]
  },
  {
   "cell_type": "markdown",
   "metadata": {},
   "source": [
    "The library that will be used to create the recommender system is scikit Surprise. This library takes data in the form of 3 columns: users, items, and ratings. In order to efficiently work with the dataset, the reviewerID and itemID columns will need to be encoded. This can be done by creating an ordered categorical data type based on the unique values of the reviewerIDs and itemIDs. The index of the ordered categorical list will be used as the IDs for the reviewers and the items. The pandas api provides a method for creating a Categorical data type."
   ]
  },
  {
   "cell_type": "code",
   "execution_count": 6,
   "metadata": {},
   "outputs": [
    {
     "data": {
      "text/html": [
       "<div>\n",
       "<style scoped>\n",
       "    .dataframe tbody tr th:only-of-type {\n",
       "        vertical-align: middle;\n",
       "    }\n",
       "\n",
       "    .dataframe tbody tr th {\n",
       "        vertical-align: top;\n",
       "    }\n",
       "\n",
       "    .dataframe thead th {\n",
       "        text-align: right;\n",
       "    }\n",
       "</style>\n",
       "<table border=\"1\" class=\"dataframe\">\n",
       "  <thead>\n",
       "    <tr style=\"text-align: right;\">\n",
       "      <th></th>\n",
       "      <th>reviewerID</th>\n",
       "      <th>itemID</th>\n",
       "      <th>rating</th>\n",
       "    </tr>\n",
       "  </thead>\n",
       "  <tbody>\n",
       "    <tr>\n",
       "      <th>0</th>\n",
       "      <td>176008</td>\n",
       "      <td>0</td>\n",
       "      <td>5</td>\n",
       "    </tr>\n",
       "    <tr>\n",
       "      <th>1</th>\n",
       "      <td>173739</td>\n",
       "      <td>0</td>\n",
       "      <td>1</td>\n",
       "    </tr>\n",
       "    <tr>\n",
       "      <th>2</th>\n",
       "      <td>134504</td>\n",
       "      <td>0</td>\n",
       "      <td>3</td>\n",
       "    </tr>\n",
       "    <tr>\n",
       "      <th>3</th>\n",
       "      <td>24476</td>\n",
       "      <td>0</td>\n",
       "      <td>2</td>\n",
       "    </tr>\n",
       "    <tr>\n",
       "      <th>4</th>\n",
       "      <td>57419</td>\n",
       "      <td>0</td>\n",
       "      <td>1</td>\n",
       "    </tr>\n",
       "  </tbody>\n",
       "</table>\n",
       "</div>"
      ],
      "text/plain": [
       "   reviewerID  itemID  rating\n",
       "0      176008       0       5\n",
       "1      173739       0       1\n",
       "2      134504       0       3\n",
       "3       24476       0       2\n",
       "4       57419       0       1"
      ]
     },
     "execution_count": 6,
     "metadata": {},
     "output_type": "execute_result"
    }
   ],
   "source": [
    "from pandas.api.types import CategoricalDtype\n",
    "\n",
    "#creating category datatypes\n",
    "reviewer = CategoricalDtype(sorted(df.reviewerID.unique()), ordered=True)\n",
    "item = CategoricalDtype(sorted(df.itemID.unique()), ordered=True)\n",
    "\n",
    "#setting the reviwerID and itemID to their respective datatype\n",
    "df_cat = df.astype({'reviewerID':reviewer,'itemID':item})\n",
    "#subsetting data by relevant columns, using the category indices\n",
    "df_rec = pd.DataFrame(({'reviewerID':df_cat.reviewerID.cat.codes,\n",
    "                          'itemID':df_cat.itemID.cat.codes,\n",
    "                          'rating':df_cat.rating})).reset_index(drop=True)\n",
    "df_rec.head()"
   ]
  },
  {
   "cell_type": "markdown",
   "metadata": {},
   "source": [
    "The surprise module will be imported as well as GridSearchCV. The surprise reader will be used to parse the data. The dataset will be loaded from a dataframe and parsed with the reader. GridSearchCV will be used to find the optimal hyperparameters."
   ]
  },
  {
   "cell_type": "code",
   "execution_count": 7,
   "metadata": {},
   "outputs": [],
   "source": [
    "import surprise\n",
    "from surprise.model_selection import GridSearchCV, cross_validate\n",
    "\n",
    "#read the custom data in, preprocessing\n",
    "reader = surprise.Reader() #parser\n",
    "\n",
    "#loading the data and creating train/test sets\n",
    "data = surprise.Dataset.load_from_df(df_rec,reader)"
   ]
  },
  {
   "cell_type": "markdown",
   "metadata": {},
   "source": [
    "The GridSearchCV will be used to tune the hyper parameters of the model. The model that will be used is SVD which was popularized by Simon Funk from the Netflix Prize recommender system challenge. SVD is very similar to matrix factorization. GridSearchCV will take a list of hyperparameters, param_grid. The model will be fit to the dataset and cross validated with every combination of hyperparameters provided. The combination that achieves the highest RMSE score will be returned. "
   ]
  },
  {
   "cell_type": "code",
   "execution_count": 8,
   "metadata": {},
   "outputs": [
    {
     "data": {
      "text/plain": [
       "{'rmse': {'lr_all': 0.01, 'reg_all': 0.5},\n",
       " 'mae': {'lr_all': 0.01, 'reg_all': 0.1}}"
      ]
     },
     "execution_count": 8,
     "metadata": {},
     "output_type": "execute_result"
    }
   ],
   "source": [
    "#hyperparameters to tune\n",
    "param_grid = {'lr_all':[0.001, 0.01], 'reg_all':[0.1, 0.5]}\n",
    "#running gridsearch on the SVD model\n",
    "gs = GridSearchCV(surprise.SVD, param_grid, measures=['rmse'],cv=3)\n",
    "gs.fit(data)\n",
    "#storing the best parameters into variables\n",
    "best_lr = gs.best_params['rmse']['lr_all']\n",
    "best_reg = gs.best_params['rmse']['reg_all']\n",
    "\n",
    "gs.best_params['rmse']"
   ]
  },
  {
   "cell_type": "markdown",
   "metadata": {},
   "source": [
    "Using the best hyperparameters from GridSearchCV, the entire dataset will be fit to the surprise SVD model and 5-fold cross validated. The results of the cross validation will ensure that the model produces similar results from being fit to different subsets of the data."
   ]
  },
  {
   "cell_type": "code",
   "execution_count": 11,
   "metadata": {},
   "outputs": [
    {
     "name": "stdout",
     "output_type": "stream",
     "text": [
      "Evaluating RMSE, MAE of algorithm SVD on 5 split(s).\n",
      "\n",
      "                  Fold 1  Fold 2  Fold 3  Fold 4  Fold 5  Mean    Std     \n",
      "RMSE (testset)    1.0898  1.0883  1.0886  1.0917  1.0932  1.0903  0.0019  \n",
      "MAE (testset)     0.8190  0.8183  0.8180  0.8204  0.8206  0.8193  0.0011  \n",
      "Fit time          117.27  124.32  120.35  123.40  111.09  119.29  4.79    \n",
      "Test time         5.05    4.44    3.82    4.70    4.10    4.42    0.43    \n"
     ]
    }
   ],
   "source": [
    "#checking performance of model with cross validate\n",
    "svd = surprise.SVD(lr_all=best_lr, reg_all=best_reg, random_state=29)\n",
    "cv = cross_validate(svd, data, verbose=True)"
   ]
  },
  {
   "cell_type": "markdown",
   "metadata": {},
   "source": [
    "The results show that there is not much difference between the subsets of the data, as seen from the very low standard deviation. The root mean squared error measures the average magnitude of the errors. On average, the RMSE value was 1.0903.\n",
    "Given that the rating values can be between 0-5, this shows that the model seems to have prediction errors of about 22% from the actual ratings. \n",
    "\n",
    "Now that the model has been fit to the data, the ratings can be predicted for each user/item pair. A list of all the items a given user has not rated yet can be created. From this list, the top 5 highest predicted ratings will be used to recommend items for the user. A function will be made in order to perform the recommendation. "
   ]
  },
  {
   "cell_type": "code",
   "execution_count": 32,
   "metadata": {},
   "outputs": [],
   "source": [
    "def recommendTopN(rid, model, n_rec=5):\n",
    "    #creating list of unrated items for this reviewer\n",
    "    iids = df_rec['itemID'].unique()\n",
    "    iids_reviewer = df_rec[df_rec.reviewerID == rid].itemID\n",
    "    #set difference, items reviewer hasn't rated yet\n",
    "    iids_to_pred = np.setdiff1d(iids, iids_reviewer)\n",
    "    #creating predictions for this reviewer, arbitrary rating of 0 for default\n",
    "    reviewerset = [[rid, iid, 0] for iid in iids_to_pred]\n",
    "    predictions = model.test(reviewerset)\n",
    "    #creating array of prediction results\n",
    "    pred_ratings = np.array([pred.est for pred in predictions])\n",
    "    #sorting by values, -1 for descending, n_rec for top n recommendations, index from pred_ratings\n",
    "    i_topN = pred_ratings.argsort()[::-1][:n_rec]\n",
    "    #using index from pred_ratings to get itemID\n",
    "    topN_iid = iids_to_pred[i_topN]\n",
    "    #using index from pred_ratings to get the predicted ratings\n",
    "    topN_rating = pred_ratings[i_topN]\n",
    "    print(\"The top {} recommendations for reviewer {} are:\".format(n_rec, reviewer.categories[rid]))\n",
    "    for itemID, rating in zip(topN_iid, topN_rating):\n",
    "        print(\"\\titemID: {} \\titem: {} \\tpredicted rating: {:.3f}\".format(itemID, item.categories[itemID], rating))\n",
    "    return topN_iid, topN_rating"
   ]
  },
  {
   "cell_type": "code",
   "execution_count": 33,
   "metadata": {},
   "outputs": [
    {
     "name": "stdout",
     "output_type": "stream",
     "text": [
      "The top 5 recommendations for user A1ZD690RCXOSB are:\n",
      "\titemID: 50352 \titem: B0087RF5RG \trating: 4.943\n",
      "\titemID: 32961 \titem: B0041ORN9M \trating: 4.904\n",
      "\titemID: 9653 \titem: B000HVHDJ8 \trating: 4.898\n",
      "\titemID: 1376 \titem: B000068IGO \trating: 4.893\n",
      "\titemID: 57954 \titem: B00C10T2EC \trating: 4.891\n"
     ]
    }
   ],
   "source": [
    "x = recommendTopN(50211, svd, n_rec=5)"
   ]
  },
  {
   "cell_type": "markdown",
   "metadata": {},
   "source": [
    "This function is able to provide the top 5 recommended items for the given user. The top 5 items are based on ratings that the model predicts the users would give each item. The function allows for usage of different recommender models as well as different amount of recommendations."
   ]
  },
  {
   "cell_type": "markdown",
   "metadata": {},
   "source": [
    "### Summary:"
   ]
  },
  {
   "cell_type": "markdown",
   "metadata": {},
   "source": [
    "Matrix factorization is the used to break down a larger matrix of user/item pairs of ratings into separate users and items matrices so that the dot product can be performed to make predictions on unrated items for a user. Using scikit surprise, the SVD model was fit to the entire dataset with the hyperparameters that performed the best in the grid search. The model was cross validated to ensure that it would perform equally well on different subsets of the data. It was found that the average RMSE of the model was 1.0903. The model allows for predictions of user/item ratings. A function was then made so that the top N recommendations can be provided for any reviewer. This function returns a list of the top items that has not be rated by the reviewer yet."
   ]
  }
 ],
 "metadata": {
  "kernelspec": {
   "display_name": "Python 3",
   "language": "python",
   "name": "python3"
  },
  "language_info": {
   "codemirror_mode": {
    "name": "ipython",
    "version": 3
   },
   "file_extension": ".py",
   "mimetype": "text/x-python",
   "name": "python",
   "nbconvert_exporter": "python",
   "pygments_lexer": "ipython3",
   "version": "3.7.3"
  }
 },
 "nbformat": 4,
 "nbformat_minor": 2
}
